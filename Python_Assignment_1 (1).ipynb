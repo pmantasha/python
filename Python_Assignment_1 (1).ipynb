{
  "nbformat": 4,
  "nbformat_minor": 0,
  "metadata": {
    "colab": {
      "provenance": []
    },
    "kernelspec": {
      "name": "python3",
      "display_name": "Python 3"
    },
    "language_info": {
      "name": "python"
    }
  },
  "cells": [
    {
      "cell_type": "markdown",
      "source": [
        "# Python"
      ],
      "metadata": {
        "id": "QiRcsnFw8pza"
      }
    },
    {
      "cell_type": "markdown",
      "source": [
        "#Theory:"
      ],
      "metadata": {
        "id": "qBE766qObbxa"
      }
    },
    {
      "cell_type": "markdown",
      "source": [
        "1. What is Python, and why is it popular?\n",
        "  - Python is a programming language that is easy to learn and use. It is widely used in the data industory and also it has 137000 of libraries which is well optamised such as panda.\n",
        "\n",
        " - It is popular beacuse of it has many ready-to-use tools (called libraries) that help do common tasks faster. Also people use Python for web development, data analysis, machine learning, automation, and more.\n",
        "\n",
        "2. What is an interpreter in Python?\n",
        "  - In python interpreter is a program that reads and executes Python code directly, line by line. It translates the high-level Python code into machine code that the computer can understand and execute.\n",
        "\n",
        "3. What are pre-defined keywords in Python/\n",
        "  - Pre-defined keywords are words that hold special meaning and have specific purpose in python programing. They are reserved by Python for specific functions, such as controlling the flow of execution or defining the structure of a program.\n",
        "  Ex:- if-Used for conditional statements. if 3 > 2\n",
        "  print(\"greater\") .\n",
        "\n",
        "4. Can keywords be used as variable names?\n",
        "  - No, keywords can not be ysed as variable names because they are part of the syntax of the Python language. These words are used to define the structure and behavior of the code, so they are reserved by the language and cannot be redefined\n",
        "  For example, we cannot use words like if, else, for, def, class, etc., as variable names because they are already used for specific purposes in Python.\n",
        "\n",
        "5. What is mutability in Python?\n",
        " - Object/container whose state/value can be changed after it is created, called mutability in python.\n",
        " For example, lists, dictionaries, and sets are mutable. We can change their values, add new elements, or remove elements without creating a new object.\n",
        "\n",
        "6. Why are lists mutable, but tuples are immutable?\n",
        " - In Python, lists can be changed after they are created, whoch allows us to add, remove, or modify their items. This makes lists mutable.\n",
        " Whereas, tuples cannot be changed once they are created. We cannot add, remove, or change items in a tuple, so tuples are immutable.\n"
      ],
      "metadata": {
        "id": "DGHaD0Bx8w4l"
      }
    },
    {
      "cell_type": "code",
      "source": [
        "my_list = [1, 2, 3]\n",
        "my_list[0] = 10  # We can change the value of an element in a list\n",
        "print(my_list)  # Output: [10, 2, 3]\n"
      ],
      "metadata": {
        "colab": {
          "base_uri": "https://localhost:8080/"
        },
        "id": "8zHNbkvKIF9s",
        "outputId": "b26b1da9-ce2c-4396-af45-e8ed32650e2e"
      },
      "execution_count": null,
      "outputs": [
        {
          "output_type": "stream",
          "name": "stdout",
          "text": [
            "[10, 2, 3]\n"
          ]
        }
      ]
    },
    {
      "cell_type": "code",
      "source": [
        "my_tuple = (1, 2, 3)"
      ],
      "metadata": {
        "id": "Do6uWcX-IJPF"
      },
      "execution_count": null,
      "outputs": []
    },
    {
      "cell_type": "markdown",
      "source": [
        "7. What is the difference between “==” and “is” operators in Python?\n",
        " - In Python, \"==\" and \"is\" are both used for comparison, but they do different things:\n",
        " Using \"==\" we can compare if two objects have the same value.\n",
        " Using \"is' we can check if two objects are the same in memory (i.e., they are the exact same object).\n"
      ],
      "metadata": {
        "id": "lxn3zvTSIVkO"
      }
    },
    {
      "cell_type": "code",
      "source": [
        "a = [1, 2, 3]\n",
        "b = [1, 2, 3]\n",
        "\n",
        "print(a == b)\n"
      ],
      "metadata": {
        "colab": {
          "base_uri": "https://localhost:8080/"
        },
        "id": "_d5rNFOhIOL1",
        "outputId": "cd5d9137-ba13-4be2-b85c-ee2b5f1bd9c5"
      },
      "execution_count": null,
      "outputs": [
        {
          "output_type": "stream",
          "name": "stdout",
          "text": [
            "True\n"
          ]
        }
      ]
    },
    {
      "cell_type": "code",
      "source": [
        "a = [1, 2, 3]\n",
        "b = [1, 2, 3]\n",
        "\n",
        "print(a is b)\n"
      ],
      "metadata": {
        "colab": {
          "base_uri": "https://localhost:8080/"
        },
        "id": "QiIrKc65J8An",
        "outputId": "5401f20b-db5d-4d1c-ecf4-3cd578d9ea7d"
      },
      "execution_count": null,
      "outputs": [
        {
          "output_type": "stream",
          "name": "stdout",
          "text": [
            "False\n"
          ]
        }
      ]
    },
    {
      "cell_type": "markdown",
      "source": [
        "8. What are logical operators in Python?\n",
        " - In Python, logical operators are used to combine two or more conditions to make decisions. They help us to check if conditions are True or False.\n",
        " There are three main logical operators;\n",
        " and: True if both conditions are true.\n",
        " or: True if at least one condition is true.\n",
        " not: Reverses the result (True becomes False, and False becomes True).\n"
      ],
      "metadata": {
        "id": "AV_v2_HlKDfZ"
      }
    },
    {
      "cell_type": "code",
      "source": [
        "x = 5\n",
        "y = 11\n",
        "print(x > 3 and y < 16)\n"
      ],
      "metadata": {
        "colab": {
          "base_uri": "https://localhost:8080/"
        },
        "id": "P_MC94NxLMV1",
        "outputId": "db20d805-ad89-4314-b100-a22a3689844a"
      },
      "execution_count": null,
      "outputs": [
        {
          "output_type": "stream",
          "name": "stdout",
          "text": [
            "True\n"
          ]
        }
      ]
    },
    {
      "cell_type": "code",
      "source": [
        "x = 5\n",
        "y = 2\n",
        "print(x > 3 or y > 5)\n"
      ],
      "metadata": {
        "colab": {
          "base_uri": "https://localhost:8080/"
        },
        "id": "1MWhmAXqLhll",
        "outputId": "017a23b9-0ea6-42da-9add-6a292ab62d5e"
      },
      "execution_count": null,
      "outputs": [
        {
          "output_type": "stream",
          "name": "stdout",
          "text": [
            "True\n"
          ]
        }
      ]
    },
    {
      "cell_type": "code",
      "source": [
        "x = 5\n",
        "print(not(x > 4))\n"
      ],
      "metadata": {
        "colab": {
          "base_uri": "https://localhost:8080/"
        },
        "id": "LQbQJ3O5LlVW",
        "outputId": "e797360d-cde2-412b-cc10-82e05ecabfa9"
      },
      "execution_count": null,
      "outputs": [
        {
          "output_type": "stream",
          "name": "stdout",
          "text": [
            "False\n"
          ]
        }
      ]
    },
    {
      "cell_type": "markdown",
      "source": [
        "9. What is type casting in Python?\n",
        " - Type casting is used for converting a variable from one data type to another. Python provides built-in functions to change the type of variables, such as converting an integer to a string or a string to a float.\n",
        " Common Type Casting Functions:-\n",
        " int() – Converts a value to an integer.\n",
        " float() – Converts a value to a float.\n",
        " str() – Converts a value to a string."
      ],
      "metadata": {
        "id": "brX6qLv6Lxvf"
      }
    },
    {
      "cell_type": "code",
      "source": [
        "x = 50\n",
        "y = str(x)\n",
        "print(y) #Converting an integer to a string"
      ],
      "metadata": {
        "colab": {
          "base_uri": "https://localhost:8080/"
        },
        "id": "zH_tJg9qMi5t",
        "outputId": "7ad54822-d6c1-45fd-b737-ff0e5bb1e591"
      },
      "execution_count": null,
      "outputs": [
        {
          "output_type": "stream",
          "name": "stdout",
          "text": [
            "50\n"
          ]
        }
      ]
    },
    {
      "cell_type": "code",
      "source": [
        "x = \"290\"\n",
        "y = int(x)\n",
        "print(y)  # Converting a string to an integer"
      ],
      "metadata": {
        "colab": {
          "base_uri": "https://localhost:8080/"
        },
        "id": "y4fFej6EM94L",
        "outputId": "f80d84ac-ea7d-4ff1-d4d6-680e316da4a3"
      },
      "execution_count": null,
      "outputs": [
        {
          "output_type": "stream",
          "name": "stdout",
          "text": [
            "290\n"
          ]
        }
      ]
    },
    {
      "cell_type": "code",
      "source": [
        "x = 4.57\n",
        "y = int(x)\n",
        "print(y)  # Converting a float to an integer"
      ],
      "metadata": {
        "colab": {
          "base_uri": "https://localhost:8080/"
        },
        "id": "RsFzdXUrNFbK",
        "outputId": "1e02eaed-4cff-4ef9-f0ea-a92faab0abcd"
      },
      "execution_count": null,
      "outputs": [
        {
          "output_type": "stream",
          "name": "stdout",
          "text": [
            "4\n"
          ]
        }
      ]
    },
    {
      "cell_type": "markdown",
      "source": [
        "10. What is the difference between implicit and explicit type casting?\n",
        " - Implicit type casting happens automatically when Python converts one data type to another without the programmer needing to do anything. This usually occurs when a smaller data type is assigned to a larger data type.\n",
        " Explicit type casting occurs when the programmer manually converts a variable from one data type to another using built-in functions like int(), float(), str(), etc."
      ],
      "metadata": {
        "id": "dFVIWxjeNZhs"
      }
    },
    {
      "cell_type": "code",
      "source": [
        "x = 8        # Integer\n",
        "y = 4.9     # Float\n",
        "result = x + y  # x is automatically converted to float before the addition\n",
        "print(result)\n"
      ],
      "metadata": {
        "colab": {
          "base_uri": "https://localhost:8080/"
        },
        "id": "zfyDL48vOOkf",
        "outputId": "de03daa1-4ca4-4ab5-8bab-31588327ae9d"
      },
      "execution_count": null,
      "outputs": [
        {
          "output_type": "stream",
          "name": "stdout",
          "text": [
            "12.9\n"
          ]
        }
      ]
    },
    {
      "cell_type": "code",
      "source": [
        "x = \"30\"          # String\n",
        "y = int(x)        # Explicitly convert the string to an integer\n",
        "print(y)\n"
      ],
      "metadata": {
        "colab": {
          "base_uri": "https://localhost:8080/"
        },
        "id": "j7YUs8D2OVbk",
        "outputId": "840600ca-e8d7-4be0-ae1e-c659347c1ea9"
      },
      "execution_count": null,
      "outputs": [
        {
          "output_type": "stream",
          "name": "stdout",
          "text": [
            "30\n"
          ]
        }
      ]
    },
    {
      "cell_type": "markdown",
      "source": [
        "11. What is the purpose of conditional statements in Python?\n",
        " -  Conditional statements in Python are used to make decisions in our program based on whether certain conditions are True or False. They allow our program to execute different blocks of code depending on the conditions, enabling more flexible and dynamic behavior.The purpose of conditional statements is to control the flow of execution and determine which code should run under different circumstances.\n",
        "\n",
        " Ex:- if statement:\n",
        " The \"if\" statement checks if a condition is True. If it is, the code inside the \"if\" block will be executed.\n"
      ],
      "metadata": {
        "id": "FahWBV_HOpJs"
      }
    },
    {
      "cell_type": "code",
      "source": [
        "x = 15\n",
        "if x > 7:\n",
        "    print(\"x is greater than 5\")"
      ],
      "metadata": {
        "colab": {
          "base_uri": "https://localhost:8080/"
        },
        "id": "2QjMj8CrSrVX",
        "outputId": "048e9965-b5d3-4a4d-80c6-1e6bf56712a4"
      },
      "execution_count": null,
      "outputs": [
        {
          "output_type": "stream",
          "name": "stdout",
          "text": [
            "x is greater than 5\n"
          ]
        }
      ]
    },
    {
      "cell_type": "markdown",
      "source": [
        "12. How does the elif statement work?\n",
        " -  Working of \"elif\" statements:\n",
        "\n",
        "   -- The \"if\" statement checks the first condition.\n",
        "\n",
        "   -- If the first condition is False, the program moves to the next condition in the elif block (if there is one).\n",
        "\n",
        "  -- If the elif condition is True, the code inside the elif block is executed.\n",
        "\n",
        "  -- If no elif conditions are True, the program moves to the else block (if it exists)."
      ],
      "metadata": {
        "id": "v4pMPy6PS0D4"
      }
    },
    {
      "cell_type": "code",
      "source": [
        "x = 15\n",
        "if x < 5:\n",
        "    print(\"x is less than 5\")\n",
        "elif x == 15:\n",
        "    print(\"x is equal to 15\")\n",
        "else:\n",
        "    print(\"x is greater than 5\")\n"
      ],
      "metadata": {
        "colab": {
          "base_uri": "https://localhost:8080/"
        },
        "id": "UfNZpDjxVLCr",
        "outputId": "31ed6748-8475-47b2-a3e2-50f259fac4ea"
      },
      "execution_count": null,
      "outputs": [
        {
          "output_type": "stream",
          "name": "stdout",
          "text": [
            "x is equal to 15\n"
          ]
        }
      ]
    },
    {
      "cell_type": "markdown",
      "source": [
        "13. What is the difference between for and while loops?\n",
        "  -  \"for\" loop:\n",
        "   It is used when we know how often we want to repeat the code. It works by looping over a sequence (like a list, string, or range) and running the code for each item.\n",
        "   Example: If we want to print the numbers from 0 to 4, we use a \"for\" loop\n",
        "\n",
        " -  \"while\" loop:\n",
        "   It repeats the code as long as a condition is true. It keeps running until the condition becomes False.\n",
        "   Example: If we want to print numbers starting from 0, but stop when the number reaches 5, we use a \"while\" loop."
      ],
      "metadata": {
        "id": "iShGYKrxVb8k"
      }
    },
    {
      "cell_type": "code",
      "source": [
        "for i in range(6):  # This will loop 5 times (i = 0, 1, 2, 3, 4,5)\n",
        "    print(i)\n"
      ],
      "metadata": {
        "colab": {
          "base_uri": "https://localhost:8080/"
        },
        "id": "2hIZPrQgYHG4",
        "outputId": "09cc05c0-6ee0-4b94-9800-66e734124ee8"
      },
      "execution_count": null,
      "outputs": [
        {
          "output_type": "stream",
          "name": "stdout",
          "text": [
            "0\n",
            "1\n",
            "2\n",
            "3\n",
            "4\n",
            "5\n"
          ]
        }
      ]
    },
    {
      "cell_type": "code",
      "source": [
        "i = 0\n",
        "while i < 6:  # This will run as long as i is less than 6\n",
        "    print(i)\n",
        "    i += 1\n"
      ],
      "metadata": {
        "colab": {
          "base_uri": "https://localhost:8080/"
        },
        "id": "yJhbT29bYMm4",
        "outputId": "167bde80-722c-4789-8b74-8a8caca42a9a"
      },
      "execution_count": null,
      "outputs": [
        {
          "output_type": "stream",
          "name": "stdout",
          "text": [
            "0\n",
            "1\n",
            "2\n",
            "3\n",
            "4\n",
            "5\n"
          ]
        }
      ]
    },
    {
      "cell_type": "markdown",
      "source": [
        "14. Describe a scenario where a while loop is more suitable than a for loop.\n",
        " -  Scenerio: Imagine we write a program that asks a user to enter a valid password. We don't know how many attempts the user will need, but we want to keep asking until the user enters the correct password.\n",
        " In this case, a \"while\" loop is perfect because the loop will keep running as long as the password is incorrect. We stop the loop when the correct password is entered.\n",
        "\n",
        "   Ex:-\n",
        "   correct_password = \"Python123\"\n",
        "   user_input = \"\"\n",
        "\n",
        "   while user_input != correct_password:\n",
        "    user_input = input(\"Enter your password: \")\n",
        "\n",
        "   print(\"Password correct! Access granted.\")\n"
      ],
      "metadata": {
        "id": "9XLBvMsjYatM"
      }
    },
    {
      "cell_type": "markdown",
      "source": [
        "#  Practical:"
      ],
      "metadata": {
        "id": "FMl_QFU9bUTE"
      }
    },
    {
      "cell_type": "code",
      "source": [
        "#1. Write a Python program to print \"Hello, World!\"."
      ],
      "metadata": {
        "id": "HAy7DSfReQ62"
      },
      "execution_count": null,
      "outputs": []
    },
    {
      "cell_type": "code",
      "source": [
        "#answer:-\n",
        "print(\"Hello, World!\")"
      ],
      "metadata": {
        "colab": {
          "base_uri": "https://localhost:8080/"
        },
        "id": "M6EupMb3egIg",
        "outputId": "186f8d9a-6db0-401d-d430-0f136e32a668"
      },
      "execution_count": null,
      "outputs": [
        {
          "output_type": "stream",
          "name": "stdout",
          "text": [
            "Hello, World!\n"
          ]
        }
      ]
    },
    {
      "cell_type": "code",
      "source": [
        "#2. Write a Python program that displays your name and age."
      ],
      "metadata": {
        "id": "OXosBYTqe_3O"
      },
      "execution_count": null,
      "outputs": []
    },
    {
      "cell_type": "code",
      "source": [
        "#answer:-\n",
        "\n",
        "name = \"Mantasha Parween\"\n",
        "age = 22\n",
        "\n",
        "print(\"Name:\", name)\n",
        "print(\"Age:\", age)\n"
      ],
      "metadata": {
        "colab": {
          "base_uri": "https://localhost:8080/"
        },
        "id": "iMpHg3eBfToN",
        "outputId": "8bc94ed8-aa98-4437-f131-d80e6ff4341b"
      },
      "execution_count": null,
      "outputs": [
        {
          "output_type": "stream",
          "name": "stdout",
          "text": [
            "Name: Mantasha Parween\n",
            "Age: 22\n"
          ]
        }
      ]
    },
    {
      "cell_type": "code",
      "source": [
        "#3.  Write code to print all the pre-defined keywords in Python using the keyword library."
      ],
      "metadata": {
        "id": "CzS8LeOGfXZ8"
      },
      "execution_count": null,
      "outputs": []
    },
    {
      "cell_type": "code",
      "source": [
        "#answer:-\n",
        "import keyword\n",
        "\n",
        "print(\"Python Keywords:\", keyword.kwlist)\n"
      ],
      "metadata": {
        "colab": {
          "base_uri": "https://localhost:8080/"
        },
        "id": "_LzawIKafpwu",
        "outputId": "902cebe4-e843-467c-d5ff-dd4494ef6449"
      },
      "execution_count": null,
      "outputs": [
        {
          "output_type": "stream",
          "name": "stdout",
          "text": [
            "Python Keywords: ['False', 'None', 'True', 'and', 'as', 'assert', 'async', 'await', 'break', 'class', 'continue', 'def', 'del', 'elif', 'else', 'except', 'finally', 'for', 'from', 'global', 'if', 'import', 'in', 'is', 'lambda', 'nonlocal', 'not', 'or', 'pass', 'raise', 'return', 'try', 'while', 'with', 'yield']\n"
          ]
        }
      ]
    },
    {
      "cell_type": "code",
      "source": [
        "#4. Write a program that checks if a given word is a Python keyword."
      ],
      "metadata": {
        "id": "rYL-q9Evf8xK"
      },
      "execution_count": null,
      "outputs": []
    },
    {
      "cell_type": "code",
      "source": [
        "#answer:-\n",
        "import keyword\n",
        "\n",
        "word = input(\"Enter a word: \")\n",
        "\n",
        "# Checking if the word is a Python keyword\n",
        "if keyword.iskeyword(word):\n",
        "    print(f\"'{word}' is a Python keyword.\")\n",
        "else:\n",
        "    print(f\"'{word}' is not a Python keyword.\")\n"
      ],
      "metadata": {
        "colab": {
          "base_uri": "https://localhost:8080/"
        },
        "id": "JGOPRR4cgWGS",
        "outputId": "430e4c19-c987-44c4-a64c-52c4023c41e6"
      },
      "execution_count": null,
      "outputs": [
        {
          "output_type": "stream",
          "name": "stdout",
          "text": [
            "Enter a word: Elephant\n",
            "'Elephant' is not a Python keyword.\n"
          ]
        }
      ]
    },
    {
      "cell_type": "code",
      "source": [
        "#5. Create a list and tuple in Python, and demonstrate how attempting to change an element works differently for each."
      ],
      "metadata": {
        "id": "zypNtin-gYvi"
      },
      "execution_count": null,
      "outputs": []
    },
    {
      "cell_type": "code",
      "source": [
        "#answer:-\n",
        "# Creating a list and a tuple\n",
        "my_list = [1, 2, 3, 4, 5]\n",
        "my_tuple = (10, 20, 30, 40, 50)\n",
        "\n",
        "# Trying to change an element in the list\n",
        "print(\"Original List:\", my_list)\n",
        "my_list[2] = 29  # Changing the element at index 2\n",
        "print(\"Updated List:\", my_list)\n",
        "\n",
        "# Trying to change an element in the tuple\n",
        "print(\"\\nOriginal Tuple:\", my_tuple)\n",
        "try:\n",
        "    my_tuple[2] = 29  # Trying to change the element at index 2\n",
        "except TypeError as e:\n",
        "    print(\"Error:\", e)\n"
      ],
      "metadata": {
        "colab": {
          "base_uri": "https://localhost:8080/"
        },
        "id": "RS6bXg84hFy4",
        "outputId": "3c184f6f-c871-41af-96dc-82eb104e08c0"
      },
      "execution_count": null,
      "outputs": [
        {
          "output_type": "stream",
          "name": "stdout",
          "text": [
            "Original List: [1, 2, 3, 4, 5]\n",
            "Updated List: [1, 2, 29, 4, 5]\n",
            "\n",
            "Original Tuple: (10, 20, 30, 40, 50)\n",
            "Error: 'tuple' object does not support item assignment\n"
          ]
        }
      ]
    },
    {
      "cell_type": "code",
      "source": [
        "#6. Write a function to demonstrate the behavior of mutable and immutable arguments."
      ],
      "metadata": {
        "id": "kHYKmq4PhcF7"
      },
      "execution_count": null,
      "outputs": []
    },
    {
      "cell_type": "code",
      "source": [
        "#answer:-\n",
        "# Demosnstration of mutable and immutable arguments-\n",
        "\n",
        "def modify_arguments(mutable_arg, immutable_arg):\n",
        "    print(\"Before modification:\")\n",
        "    print(\"Mutable Argument (List):\", mutable_arg)\n",
        "    print(\"Immutable Argument (Integer):\", immutable_arg)\n",
        "\n",
        "    # Modifying the mutable argument (list)\n",
        "    mutable_arg.append(200)  # Adding an element to the list\n",
        "\n",
        "    # Modifying the immutable argument (integer)\n",
        "    immutable_arg += 20  # Changing the integer value\n",
        "\n",
        "    print(\"\\nAfter modification:\")\n",
        "    print(\"Mutable Argument (List):\", mutable_arg)\n",
        "    print(\"Immutable Argument (Integer):\", immutable_arg)\n",
        "\n",
        "# Example usage\n",
        "my_list = [1, 2, 3]\n",
        "my_int = 80\n",
        "\n",
        "# Calling the function\n",
        "modify_arguments(my_list, my_int)\n",
        "\n",
        "# Checking the original variables outside the function\n",
        "print(\"\\nOutside the function:\")\n",
        "print(\"Original List:\", my_list)\n",
        "print(\"Original Integer:\", my_int)\n"
      ],
      "metadata": {
        "colab": {
          "base_uri": "https://localhost:8080/"
        },
        "id": "fkAGFSF2iKjN",
        "outputId": "ba9ed453-e27f-4ad6-b5c8-b0c07ef55e46"
      },
      "execution_count": null,
      "outputs": [
        {
          "output_type": "stream",
          "name": "stdout",
          "text": [
            "Before modification:\n",
            "Mutable Argument (List): [1, 2, 3]\n",
            "Immutable Argument (Integer): 80\n",
            "\n",
            "After modification:\n",
            "Mutable Argument (List): [1, 2, 3, 200]\n",
            "Immutable Argument (Integer): 100\n",
            "\n",
            "Outside the function:\n",
            "Original List: [1, 2, 3, 200]\n",
            "Original Integer: 80\n"
          ]
        }
      ]
    },
    {
      "cell_type": "code",
      "source": [
        "#7. Write a function to demonstrate the behavior of mutable and immutable arguments."
      ],
      "metadata": {
        "id": "0lMo6wKXixzo"
      },
      "execution_count": null,
      "outputs": []
    },
    {
      "cell_type": "code",
      "source": [
        "#answer:-\n",
        "\n",
        "# Questions no. 6 and 7 are the same in the assignment so not writing the same answer again."
      ],
      "metadata": {
        "id": "-1QRAGmcjeZz"
      },
      "execution_count": null,
      "outputs": []
    },
    {
      "cell_type": "code",
      "source": [
        "#8. Write a program to demonstrate the use of logical operators."
      ],
      "metadata": {
        "id": "9I5mYexTj6dt"
      },
      "execution_count": null,
      "outputs": []
    },
    {
      "cell_type": "code",
      "source": [
        "#answer:-\n",
        "\n",
        "a = 30\n",
        "b = 40\n",
        "c = 50\n",
        "\n",
        "# Using the 'and' logical operator\n",
        "if a < b and b < c:\n",
        "    print(\"Both conditions are True: a < b and b < c\")\n",
        "\n",
        "# Using the 'or' logical operator\n",
        "if a > b or b < c:\n",
        "    print(\"At least one condition is True: a > b or b < c\")\n",
        "\n",
        "# Using the 'not' logical operator\n",
        "if not a > b:\n",
        "    print(\"Condition is False: not a > b\")"
      ],
      "metadata": {
        "colab": {
          "base_uri": "https://localhost:8080/"
        },
        "id": "UHcD9Q5xkNNB",
        "outputId": "1e81fee3-1a2c-47b7-dbe8-cb752e04715e"
      },
      "execution_count": null,
      "outputs": [
        {
          "output_type": "stream",
          "name": "stdout",
          "text": [
            "Both conditions are True: a < b and b < c\n",
            "At least one condition is True: a > b or b < c\n",
            "Condition is False: not a > b\n"
          ]
        }
      ]
    },
    {
      "cell_type": "code",
      "source": [
        "#9. Write a Python program to convert user input from string to integer, float, and boolean types."
      ],
      "metadata": {
        "id": "17LpIhsSkhee"
      },
      "execution_count": null,
      "outputs": []
    },
    {
      "cell_type": "code",
      "source": [
        "#answer:-\n",
        "\n",
        "user_input = input(\"Enter a value: \")\n",
        "\n",
        "# Convert to integer\n",
        "try:\n",
        "    integer_value = int(user_input)\n",
        "    print(f\"Converted to Integer: {integer_value}\")\n",
        "except ValueError:\n",
        "    print(\"Invalid input for Integer conversion\")\n",
        "\n",
        "# Convert to float\n",
        "try:\n",
        "    float_value = float(user_input)\n",
        "    print(f\"Converted to Float: {float_value}\")\n",
        "except ValueError:\n",
        "    print(\"Invalid input for Float conversion\")\n",
        "\n",
        "# Covert to boolean\n",
        "boolean_value = user_input.strip().lower() == 'true'\n",
        "print(f\"Converted to Boolean: {boolean_value}\")"
      ],
      "metadata": {
        "colab": {
          "base_uri": "https://localhost:8080/"
        },
        "id": "rhYuFETQkutG",
        "outputId": "5336567d-0369-46e5-9c2f-d7d6a181f465"
      },
      "execution_count": null,
      "outputs": [
        {
          "output_type": "stream",
          "name": "stdout",
          "text": [
            "Enter a value: 59\n",
            "Converted to Integer: 59\n",
            "Converted to Float: 59.0\n",
            "Converted to Boolean: False\n"
          ]
        }
      ]
    },
    {
      "cell_type": "code",
      "source": [
        "#10. Write code to demonstrate type casting with list elements."
      ],
      "metadata": {
        "id": "PaTheXGVl2MA"
      },
      "execution_count": null,
      "outputs": []
    },
    {
      "cell_type": "code",
      "source": [
        "#answer:-\n",
        "# List with elements of different types (string, float, etc.)\n",
        "my_list = ['20', '40', '50.5', 'True']\n",
        "\n",
        "print(\"Original List:\", my_list)\n",
        "\n",
        "# Type casting: Converting string elements to integer or float\n",
        "casted_list = [int(item) if item.isdigit() else float(item) if '.' in item else item for item in my_list]\n",
        "\n",
        "print(\"\\nList after type casting:\")\n",
        "print(casted_list)"
      ],
      "metadata": {
        "colab": {
          "base_uri": "https://localhost:8080/"
        },
        "id": "Gs1eWKO-m_aD",
        "outputId": "b729213d-5bb8-4fe7-ba6c-d889e698a087"
      },
      "execution_count": null,
      "outputs": [
        {
          "output_type": "stream",
          "name": "stdout",
          "text": [
            "Original List: ['20', '40', '50.5', 'True']\n",
            "\n",
            "List after type casting:\n",
            "[20, 40, 50.5, 'True']\n"
          ]
        }
      ]
    },
    {
      "cell_type": "code",
      "source": [
        "#11. Write a program that checks if a number is positive, negative, or zero."
      ],
      "metadata": {
        "id": "xECoGwMZnofl"
      },
      "execution_count": null,
      "outputs": []
    },
    {
      "cell_type": "code",
      "source": [
        "#answer:-\n",
        "number = float(input(\"Enter a number: \"))\n",
        "\n",
        "# Check if the number is positive, negative, or zero\n",
        "if number > 0:\n",
        "    print(\"The number is positive.\")\n",
        "elif number < 0:\n",
        "    print(\"The number is negative.\")\n",
        "else:\n",
        "    print(\"The number is zero.\")\n"
      ],
      "metadata": {
        "colab": {
          "base_uri": "https://localhost:8080/"
        },
        "id": "JakdM32VoRlY",
        "outputId": "fa91fae5-f0e6-4c30-9f7a-c8f1e3fc0a94"
      },
      "execution_count": null,
      "outputs": [
        {
          "output_type": "stream",
          "name": "stdout",
          "text": [
            "Enter a number: -98\n",
            "The number is negative.\n"
          ]
        }
      ]
    },
    {
      "cell_type": "code",
      "source": [
        "#12. Write a for loop to print numbers from 1 to 10."
      ],
      "metadata": {
        "id": "meSYF5RQosbR"
      },
      "execution_count": null,
      "outputs": []
    },
    {
      "cell_type": "code",
      "source": [
        "#answer:-\n",
        "# Using a for loop to print numbers from 1 to 10\n",
        "for number in range(1, 9):\n",
        "    print(number)\n"
      ],
      "metadata": {
        "colab": {
          "base_uri": "https://localhost:8080/"
        },
        "id": "UOB171TMpO8b",
        "outputId": "28c86d36-f7c4-4fde-a417-100d04dd448c"
      },
      "execution_count": null,
      "outputs": [
        {
          "output_type": "stream",
          "name": "stdout",
          "text": [
            "1\n",
            "2\n",
            "3\n",
            "4\n",
            "5\n",
            "6\n",
            "7\n",
            "8\n"
          ]
        }
      ]
    },
    {
      "cell_type": "code",
      "source": [
        "#13. Write a Python program to find the sum of all even numbers between 1 and 50."
      ],
      "metadata": {
        "id": "GOP4cCVCpdsA"
      },
      "execution_count": null,
      "outputs": []
    },
    {
      "cell_type": "code",
      "source": [
        "#answer:-\n",
        "# Initializing the sum variable\n",
        "sum_of_evens = 0\n",
        "\n",
        "# Loop through numbers from 1 to 50\n",
        "for number in range(1, 51):\n",
        "    # Checking if the number is even\n",
        "    if number % 2 == 0:\n",
        "        sum_of_evens += number  # Adding the even number to the sum\n",
        "\n",
        "# Print the result\n",
        "print(\"The sum of all even numbers between 1 and 50 is:\", sum_of_evens)\n"
      ],
      "metadata": {
        "colab": {
          "base_uri": "https://localhost:8080/"
        },
        "id": "AAYzE-UBpyKQ",
        "outputId": "665c2a7d-51dc-41d8-c71a-faa7294ade4b"
      },
      "execution_count": null,
      "outputs": [
        {
          "output_type": "stream",
          "name": "stdout",
          "text": [
            "The sum of all even numbers between 1 and 50 is: 650\n"
          ]
        }
      ]
    },
    {
      "cell_type": "code",
      "source": [
        "#14. Write a program to reverse a string using a while loop."
      ],
      "metadata": {
        "id": "pojcr_YxqfNg"
      },
      "execution_count": null,
      "outputs": []
    },
    {
      "cell_type": "code",
      "source": [
        "#answer:-\n",
        "# Input string from the user\n",
        "input_string = input(\"Enter a string: \")\n",
        "\n",
        "# Initializing the variables\n",
        "reversed_string = \"\"\n",
        "index = len(input_string) - 1\n",
        "\n",
        "# Reversing the string using a while loop\n",
        "while index >= 0:\n",
        "    reversed_string += input_string[index]\n",
        "    index -= 1\n",
        "\n",
        "# Printing the reversed string\n",
        "print(\"Reversed string:\", reversed_string)\n"
      ],
      "metadata": {
        "colab": {
          "base_uri": "https://localhost:8080/"
        },
        "id": "3GssD0Ciqwj0",
        "outputId": "ef23b913-fea2-431e-d7c5-5b392fe0ce0f"
      },
      "execution_count": null,
      "outputs": [
        {
          "output_type": "stream",
          "name": "stdout",
          "text": [
            "Enter a string: Potato\n",
            "Reversed string: otatoP\n"
          ]
        }
      ]
    },
    {
      "cell_type": "code",
      "source": [
        "#15. Write a Python program to calculate the factorial of a number provided by the user using a while loop."
      ],
      "metadata": {
        "id": "LAslFKPaq-Ia"
      },
      "execution_count": null,
      "outputs": []
    },
    {
      "cell_type": "code",
      "source": [
        "#answer:-\n",
        "# Input the number from the user\n",
        "num = int(input(\"Enter a number to find its factorial: \"))\n",
        "\n",
        "# Initialize factorial to 5\n",
        "factorial = 5\n",
        "\n",
        "# Checking if the number is negative\n",
        "if num < 0:\n",
        "    print(\"Factorial is not defined for negative numbers.\")\n",
        "else:\n",
        "    # Using while loop to calculate factorial\n",
        "    i = 5\n",
        "    while i <= num:\n",
        "        factorial *= i  # Multiplying factorial by i\n",
        "        i += 5  # Increment i\n",
        "\n",
        "    # Print the result\n",
        "    print(f\"The factorial of {num} is {factorial}\")\n"
      ],
      "metadata": {
        "colab": {
          "base_uri": "https://localhost:8080/"
        },
        "id": "UQd5jpZMrREx",
        "outputId": "eb24c015-c5f7-4ddc-854d-4411035754f3"
      },
      "execution_count": null,
      "outputs": [
        {
          "output_type": "stream",
          "name": "stdout",
          "text": [
            "Enter a number to find its factorial: 10\n",
            "The factorial of 10 is 250\n"
          ]
        }
      ]
    }
  ]
}